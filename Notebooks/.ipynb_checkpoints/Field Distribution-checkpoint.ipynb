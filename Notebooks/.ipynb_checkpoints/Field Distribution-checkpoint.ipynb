{
 "cells": [
  {
   "cell_type": "markdown",
   "metadata": {},
   "source": [
    "### Field Distribution"
   ]
  },
  {
   "cell_type": "code",
   "execution_count": 11,
   "metadata": {},
   "outputs": [],
   "source": [
    "import matplotlib.pyplot as plt\n",
    "import numpy as np\n",
    "import os, sys\n",
    "import numpy as np\n",
    "import pickle\n",
    "sys.path.append(\"/Users/maxime/IndividualProject/code/Data_Assimilation/src/VarDACAE\")\n",
    "sys.path.append(\"/Users/maxime/IndividualProject/code/fluidity/\")\n",
    "from fluidity import vtktools"
   ]
  },
  {
   "cell_type": "code",
   "execution_count": 12,
   "metadata": {},
   "outputs": [
    {
     "data": {
      "text/plain": [
       "'/Users/maxime/IndividualProject/code/Data_Assimilation/src/VarDACAE/notebooks'"
      ]
     },
     "execution_count": 12,
     "metadata": {},
     "output_type": "execute_result"
    }
   ],
   "source": [
    "os.getcwd()"
   ]
  },
  {
   "cell_type": "code",
   "execution_count": 29,
   "metadata": {},
   "outputs": [
    {
     "name": "stdout",
     "output_type": "stream",
     "text": [
      "24733\n",
      "1.0 0.0\n",
      "46.886965098490315 -2.5851420141713856e-08\n"
     ]
    }
   ],
   "source": [
    "ug8 = vtktools.vtu(\"../../../../../data/subdomain_8/LSBU_0_8.vtu\")\n",
    "locations8 = ug8.GetLocations()\n",
    "scalars8 = ug8.GetScalarField('TracerGeorge')\n",
    "print(len(scalars8))\n",
    "\n",
    "ug6 = vtktools.vtu(\"../../../../../data/subdomain_6/LSBU_0_6.vtu\")\n",
    "locations6 = ug6.GetLocations()\n",
    "scalars6 = ug6.GetScalarField('TracerGeorge')\n",
    "\n",
    "def normaliseScalar(scalar):\n",
    "    \"\"\" Normalise a scalar field between 0 and 1 \"\"\"\n",
    "    normalisedScalar = []\n",
    "    maxValue = np.amax(scalar)\n",
    "    minValue = np.amin(scalar)\n",
    "    for value in scalar:\n",
    "        normalisedValue = (value - minValue) / (maxValue - minValue)\n",
    "        normalisedScalar.append(normalisedValue)\n",
    "\n",
    "    return normalisedScalar\n",
    "\n",
    "normScalar8 = normaliseScalar(scalars8)\n",
    "print(np.max(normScalar8), np.min(normScalar8))\n",
    "print(np.max(scalars8), np.min(scalars8))\n"
   ]
  },
  {
   "cell_type": "code",
   "execution_count": null,
   "metadata": {},
   "outputs": [],
   "source": [
    "x = np.linspace(0, len(scalars8), 1)\n",
    "plt.plot(x, scalars8, facecolor='g')\n",
    "plt.xlabel('Scalars')\n",
    "plt.ylabel('Counts')\n",
    "plt.title('Histogram of TracerGeorge Scalar for Subdomain 8')\n",
    "plt.show()"
   ]
  },
  {
   "cell_type": "code",
   "execution_count": null,
   "metadata": {},
   "outputs": [],
   "source": []
  }
 ],
 "metadata": {
  "kernelspec": {
   "display_name": "projvenv",
   "language": "python",
   "name": "projvenv"
  },
  "language_info": {
   "codemirror_mode": {
    "name": "ipython",
    "version": 3
   },
   "file_extension": ".py",
   "mimetype": "text/x-python",
   "name": "python",
   "nbconvert_exporter": "python",
   "pygments_lexer": "ipython3",
   "version": "3.8.3"
  }
 },
 "nbformat": 4,
 "nbformat_minor": 4
}
